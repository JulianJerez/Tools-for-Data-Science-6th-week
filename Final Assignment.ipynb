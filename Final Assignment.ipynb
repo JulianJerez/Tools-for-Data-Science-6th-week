{
  "metadata": {
    "language_info": {
      "codemirror_mode": {
        "name": "python",
        "version": 3
      },
      "file_extension": ".py",
      "mimetype": "text/x-python",
      "name": "python",
      "nbconvert_exporter": "python",
      "pygments_lexer": "ipython3",
      "version": "3.8"
    },
    "kernelspec": {
      "name": "python",
      "display_name": "Pyolite",
      "language": "python"
    }
  },
  "nbformat_minor": 4,
  "nbformat": 4,
  "cells": [
    {
      "cell_type": "markdown",
      "source": "# Final Assignment\n",
      "metadata": {}
    },
    {
      "cell_type": "markdown",
      "source": "### This is an introduction to my final assignment. This course introduced I to multiple data science tools, and in this final project, I will use Jupyterlite Notebook, one of the easiest tools to share publicly. ",
      "metadata": {}
    },
    {
      "cell_type": "markdown",
      "source": "### Data Science Languages\n\n- Python\n- R\n- Julia\n- SQL\n- MATLAB\n- Scala\n- SAS\n- Java\n- C/C++\n- Haskell\n- Perl",
      "metadata": {}
    },
    {
      "cell_type": "markdown",
      "source": "### Data Science Libraries\n\n- NumPy\n- Pandas\n- Matplotlib\n- Seaborn\n- Scikit-learn\n- TensorFlow\n- Keras\n- PyTorch\n- SciPy\n- Statsmodels\n- NLTK (Natural Language Toolkit)\n- Spark\n- H2O\n",
      "metadata": {}
    },
    {
      "cell_type": "markdown",
      "source": "### Data Science Tools\n\nTool | Description\n--- | ---\nJupyter Notebook | Interactive notebook for data analysis and code\nRStudio | Integrated development environment for R\nAnaconda | Python distribution with data science packages\nTableau | Data visualization and analytics tool\nApache Hadoop | Distributed processing framework for big data\nApache Spark | Fast and general-purpose cluster computing\nSQL | Query language for managing databases\nGit | Version control system for code management\nDocker | Containerization platform for software\nTensorFlow | Machine learning framework by Google\nPyTorch | Deep learning framework by Facebook\n",
      "metadata": {}
    },
    {
      "cell_type": "markdown",
      "source": "### Arithmetic Expression Examples\n\nArithmetic expressions involve mathematical operations and can be evaluated to obtain numerical results. Here are some examples of arithmetic expressions:\n\n1. Addition: `2 + 3` evaluates to `5`.\n2. Subtraction: `7 - 4` evaluates to `3`.\n3. Multiplication: `5 * 6` evaluates to `30`.\n4. Division: `10 / 2` evaluates to `5`.\n5. Exponentiation: `2 ** 3` evaluates to `8`.\n6. Modulo: `14 % 3` evaluates to `2`.\n\nThese examples demonstrate basic arithmetic operations such as addition, subtraction, multiplication, division, exponentiation, and modulo. In programming languages like Python, these operations can be performed using appropriate operators. Evaluating arithmetic expressions is fundamental in many computational tasks.\n",
      "metadata": {}
    },
    {
      "cell_type": "code",
      "source": "# Multiplication\na = 5\nb = 3\nmultiplication_result = a * b\nprint(\"Multiplication Result:\", multiplication_result)\n\n# Addition\nc = 2\nd = 7\naddition_result = c + d\nprint(\"Addition Result:\", addition_result)\n",
      "metadata": {
        "trusted": true
      },
      "execution_count": 3,
      "outputs": [
        {
          "name": "stdout",
          "text": "Multiplication Result: 15\nAddition Result: 9\n",
          "output_type": "stream"
        }
      ]
    },
    {
      "cell_type": "code",
      "source": "# Conversion from minutes to hours\nminutes = 150\nhours = minutes / 60\n\nprint(\"Minutes:\", minutes)\nprint(\"Hours:\", hours)\n",
      "metadata": {
        "trusted": true
      },
      "execution_count": 4,
      "outputs": [
        {
          "name": "stdout",
          "text": "Minutes: 150\nHours: 2.5\n",
          "output_type": "stream"
        }
      ]
    },
    {
      "cell_type": "markdown",
      "source": "### Objectives\n\n- Gain a solid understanding of data science concepts and principles.\n- Develop proficiency in using data science tools and programming languages.\n- Learn various data exploration and visualization techniques.\n- Acquire knowledge of statistical analysis and machine learning algorithms.\n- Apply data science techniques to solve real-world problems.\n- Develop effective data cleaning and preprocessing skills.\n- Gain experience in working with large datasets and big data technologies.\n- Understand ethical considerations and privacy concerns in data science.\n- Enhance communication skills for effectively presenting data insights.\n- Collaborate with team members on data science projects.\n- Continuously learn and keep up with the latest trends and advancements in data science.\n",
      "metadata": {}
    },
    {
      "cell_type": "markdown",
      "source": "## Author\n\nName: Julián Eduardo Jerez Vera\n",
      "metadata": {}
    },
    {
      "cell_type": "markdown",
      "source": "",
      "metadata": {}
    }
  ]
}